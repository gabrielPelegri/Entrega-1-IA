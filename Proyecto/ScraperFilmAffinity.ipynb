{
 "cells": [
  {
   "cell_type": "code",
   "execution_count": 5,
   "metadata": {},
   "outputs": [
    {
     "ename": "AttributeError",
     "evalue": "'NoneType' object has no attribute 'get_text'",
     "output_type": "error",
     "traceback": [
      "\u001b[1;31m---------------------------------------------------------------------------\u001b[0m",
      "\u001b[1;31mAttributeError\u001b[0m                            Traceback (most recent call last)",
      "Cell \u001b[1;32mIn[5], line 12\u001b[0m\n\u001b[0;32m     10\u001b[0m \u001b[39mfor\u001b[39;00m film \u001b[39min\u001b[39;00m films:\n\u001b[0;32m     11\u001b[0m     title \u001b[39m=\u001b[39m film\u001b[39m.\u001b[39mfind(\u001b[39m'\u001b[39m\u001b[39ma\u001b[39m\u001b[39m'\u001b[39m)\u001b[39m.\u001b[39mget_text()\n\u001b[1;32m---> 12\u001b[0m     year \u001b[39m=\u001b[39m film\u001b[39m.\u001b[39;49mfind(\u001b[39m'\u001b[39;49m\u001b[39mspan\u001b[39;49m\u001b[39m'\u001b[39;49m, class_\u001b[39m=\u001b[39;49m\u001b[39m'\u001b[39;49m\u001b[39mmc-year\u001b[39;49m\u001b[39m'\u001b[39;49m)\u001b[39m.\u001b[39;49mget_text()\n\u001b[0;32m     13\u001b[0m     rating \u001b[39m=\u001b[39m film\u001b[39m.\u001b[39mfind(\u001b[39m'\u001b[39m\u001b[39mdiv\u001b[39m\u001b[39m'\u001b[39m, class_\u001b[39m=\u001b[39m\u001b[39m'\u001b[39m\u001b[39mavg-rating\u001b[39m\u001b[39m'\u001b[39m)\u001b[39m.\u001b[39mget_text()\u001b[39m.\u001b[39mstrip()\n\u001b[0;32m     14\u001b[0m     \u001b[39mprint\u001b[39m(title, year, rating)\n",
      "\u001b[1;31mAttributeError\u001b[0m: 'NoneType' object has no attribute 'get_text'"
     ]
    }
   ],
   "source": [
    "import requests\n",
    "from bs4 import BeautifulSoup\n",
    "\n",
    "url = \"https://www.filmaffinity.com/en/topgen.php?genre=&fromyear=&toyear=&country=&nodoc&notvse=&start=\"\n",
    "\n",
    "for i in range(1, 11):\n",
    "    page = requests.get(url + str((i-1)*20))\n",
    "    soup = BeautifulSoup(page.content, 'html.parser')\n",
    "    films = soup.find_all('div', class_='mc-title')\n",
    "    for film in films:\n",
    "        title = film.find('a').get_text()\n",
    "        year = film.find('span', class_='mc-year').get_text()\n",
    "        rating = film.find('div', class_='avg-rating').get_text().strip()\n",
    "        print(title, year, rating)\n",
    "#scraper de filmaffinity"
   ]
  }
 ],
 "metadata": {
  "kernelspec": {
   "display_name": "uax_clase",
   "language": "python",
   "name": "python3"
  },
  "language_info": {
   "codemirror_mode": {
    "name": "ipython",
    "version": 3
   },
   "file_extension": ".py",
   "mimetype": "text/x-python",
   "name": "python",
   "nbconvert_exporter": "python",
   "pygments_lexer": "ipython3",
   "version": "3.8.16"
  },
  "orig_nbformat": 4,
  "vscode": {
   "interpreter": {
    "hash": "841aac56f5aba8389a1036c87ca06f6a53b56832b99087961865c864f8bf5591"
   }
  }
 },
 "nbformat": 4,
 "nbformat_minor": 2
}
