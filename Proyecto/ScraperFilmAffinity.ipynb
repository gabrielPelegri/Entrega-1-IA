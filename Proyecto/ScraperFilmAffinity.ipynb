{
 "cells": [
  {
   "cell_type": "code",
   "execution_count": 32,
   "metadata": {},
   "outputs": [],
   "source": [
    "import requests\n",
    "from bs4 import BeautifulSoup\n",
    "import json\n",
    "\n",
    "#url = \"https://www.filmaffinity.com/en/topgen.php?genre=&fromyear=&toyear=&country=&nodoc&notvse=&start=\"\n",
    "#url = \"https://www.filmaffinity.com/en/topgen.php?genres=%2BCO%2C%2BTE&chv=0&orderby=rc&movietype=full%7C&country=&fromyear=1874&toyear=2023&ratingcount=2&runtimemin=0&runtimemax=7\"\n",
    "url = \"https://www.filmaffinity.com/es/topgen.php?genres=%2BCO%2C%2BTE&chv=0&orderby=rc&movietype=full%7C&country=&fromyear=1874&toyear=2023&ratingcount=2&runtimemin=0&runtimemax=7\"\n",
    "# Para scrapear solo humor y terror en español en filmaffinity\n",
    "films_data = []\n",
    "\n",
    "for i in range(1, 11):\n",
    "    page = requests.get(url + str((i-1)*20))\n",
    "    soup = BeautifulSoup(page.content, 'html.parser')\n",
    "    films = soup.find_all('div', class_='mc-title')\n",
    "    for film in films:\n",
    "        # extrer titulo\n",
    "        title = film.find('a').get_text()\n",
    "        \n",
    "        # visit film page to extract genre and synopsis\n",
    "        film_page_url =film.find('a')['href']\n",
    "        film_page = requests.get(film_page_url)\n",
    "        film_soup = BeautifulSoup(film_page.content, 'html.parser')\n",
    "        genre = film_soup.find('span', itemprop='genre').get_text().strip() if film_soup.find('span', itemprop='genre') else None\n",
    "        synopsis = film_soup.find('dd', {'itemprop':'description'}).get_text().strip() if film_soup.find('dd', {'itemprop':'description'}) else None\n",
    "\n",
    "        # create film data dictionary and append to list\n",
    "        film_data = {\n",
    "            'title': title,\n",
    "            'genre': genre,\n",
    "            'synopsis': synopsis\n",
    "        }\n",
    "        #print(film_data)\n",
    "        films_data.append(film_data)\n",
    "\n",
    "\n",
    "with open('films_data.json', 'w') as f:\n",
    "    json.dump(films_data, f)\n",
    "\n",
    "#scraper de filmaffinity"
   ]
  }
 ],
 "metadata": {
  "kernelspec": {
   "display_name": "uax_clase",
   "language": "python",
   "name": "python3"
  },
  "language_info": {
   "codemirror_mode": {
    "name": "ipython",
    "version": 3
   },
   "file_extension": ".py",
   "mimetype": "text/x-python",
   "name": "python",
   "nbconvert_exporter": "python",
   "pygments_lexer": "ipython3",
   "version": "3.8.16"
  },
  "orig_nbformat": 4,
  "vscode": {
   "interpreter": {
    "hash": "841aac56f5aba8389a1036c87ca06f6a53b56832b99087961865c864f8bf5591"
   }
  }
 },
 "nbformat": 4,
 "nbformat_minor": 2
}
