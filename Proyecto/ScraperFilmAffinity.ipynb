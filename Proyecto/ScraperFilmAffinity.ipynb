{
 "cells": [
  {
   "cell_type": "code",
   "execution_count": 7,
   "metadata": {},
   "outputs": [],
   "source": [
    "import requests\n",
    "from bs4 import BeautifulSoup\n",
    "import json\n",
    "\n",
    "url = \"https://www.filmaffinity.com/en/topgen.php?genre=&fromyear=&toyear=&country=&nodoc&notvse=&start=\"\n",
    "films_data = []\n",
    "\n",
    "for i in range(1, 11):\n",
    "    page = requests.get(url + str((i-1)*20))\n",
    "    soup = BeautifulSoup(page.content, 'html.parser')\n",
    "    films = soup.find_all('div', class_='mc-title')\n",
    "    for film in films:\n",
    "        title = film.find('a').get_text()\n",
    "        year_elem = film.find('span', class_='mc-year')\n",
    "        year = year_elem.get_text() if year_elem else None\n",
    "        rating = film.find('div', class_='avg-rating').get_text().strip() if film.find('div', class_='avg-rating') else None\n",
    "        film_data = {\n",
    "            'title': title,\n",
    "            'year': year,\n",
    "            'rating': rating\n",
    "        }\n",
    "        films_data.append(film_data)\n",
    "\n",
    "with open('films_data.json', 'w') as f:\n",
    "    json.dump(films_data, f)\n",
    "\n",
    "#scraper de filmaffinity"
   ]
  }
 ],
 "metadata": {
  "kernelspec": {
   "display_name": "uax_clase",
   "language": "python",
   "name": "python3"
  },
  "language_info": {
   "codemirror_mode": {
    "name": "ipython",
    "version": 3
   },
   "file_extension": ".py",
   "mimetype": "text/x-python",
   "name": "python",
   "nbconvert_exporter": "python",
   "pygments_lexer": "ipython3",
   "version": "3.8.16"
  },
  "orig_nbformat": 4,
  "vscode": {
   "interpreter": {
    "hash": "841aac56f5aba8389a1036c87ca06f6a53b56832b99087961865c864f8bf5591"
   }
  }
 },
 "nbformat": 4,
 "nbformat_minor": 2
}
