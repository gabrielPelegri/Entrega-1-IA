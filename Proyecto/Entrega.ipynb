{
 "cells": [
  {
   "cell_type": "code",
   "execution_count": 2,
   "metadata": {},
   "outputs": [],
   "source": [
    "import requests as req\n",
    "from bs4 import BeautifulSoup"
   ]
  },
  {
   "cell_type": "code",
   "execution_count": 4,
   "metadata": {},
   "outputs": [],
   "source": [
    "url = 'https://es.wallapop.com/search?kws=iphone&lat=40.4167754&lng=-3.7037901999999576&distance=100&orderBy=distance'\n",
    "response = req.get(url)"
   ]
  },
  {
   "cell_type": "code",
   "execution_count": 9,
   "metadata": {},
   "outputs": [
    {
     "name": "stdout",
     "output_type": "stream",
     "text": [
      "<bound method Tag.find_all of <!DOCTYPE html>\n",
      "<html dir=\"ltr\" lang=\"es\"><head><meta content=\"IE=EmulateIE9\" http-equiv=\"X-UA-Compatible\"/>\n",
      "<meta charset=\"utf-8\"/>\n",
      "<title>Wallapop</title>\n",
      "<base href=\"/app/\"/>\n",
      "<meta content=\"width=device-width, initial-scale=1.0, maximum-scale=1.0, viewport-fit=cover\" name=\"viewport\"/>\n",
      "<meta content=\"noindex, nofollow\" name=\"robots\"/>\n",
      "<link href=\"favicon.ico\" rel=\"icon\" type=\"image/x-icon\"/>\n",
      "<meta content=\"default\" name=\"apple-mobile-web-app-status-bar-style\"/>\n",
      "<meta content=\"yes\" name=\"apple-mobile-web-app-capable\"/>\n",
      "<meta content=\"#FFF\" name=\"theme-color\"/>\n",
      "<link href=\"/assets/pwa/apple-icon-180.png\" rel=\"apple-touch-icon\"/>\n",
      "<link href=\"/assets/pwa/apple-splash-2048-2732.jpg\" media=\"(device-width: 1024px) and (device-height: 1366px) and (-webkit-device-pixel-ratio: 2) and (orientation: portrait)\" rel=\"apple-touch-startup-image\"/>\n",
      "<link href=\"/assets/pwa/apple-splash-2732-2048.jpg\" media=\"(device-width: 1024px) and (device-height: 1366px) and (-webkit-device-pixel-ratio: 2) and (orientation: landscape)\" rel=\"apple-touch-startup-image\"/>\n",
      "<link href=\"/assets/pwa/apple-splash-1668-2388.jpg\" media=\"(device-width: 834px) and (device-height: 1194px) and (-webkit-device-pixel-ratio: 2) and (orientation: portrait)\" rel=\"apple-touch-startup-image\"/>\n",
      "<link href=\"/assets/pwa/apple-splash-2388-1668.jpg\" media=\"(device-width: 834px) and (device-height: 1194px) and (-webkit-device-pixel-ratio: 2) and (orientation: landscape)\" rel=\"apple-touch-startup-image\"/>\n",
      "<link href=\"/assets/pwa/apple-splash-1536-2048.jpg\" media=\"(device-width: 768px) and (device-height: 1024px) and (-webkit-device-pixel-ratio: 2) and (orientation: portrait)\" rel=\"apple-touch-startup-image\"/>\n",
      "<link href=\"/assets/pwa/apple-splash-2048-1536.jpg\" media=\"(device-width: 768px) and (device-height: 1024px) and (-webkit-device-pixel-ratio: 2) and (orientation: landscape)\" rel=\"apple-touch-startup-image\"/>\n",
      "<link href=\"/assets/pwa/apple-splash-1668-2224.jpg\" media=\"(device-width: 834px) and (device-height: 1112px) and (-webkit-device-pixel-ratio: 2) and (orientation: portrait)\" rel=\"apple-touch-startup-image\"/>\n",
      "<link href=\"/assets/pwa/apple-splash-2224-1668.jpg\" media=\"(device-width: 834px) and (device-height: 1112px) and (-webkit-device-pixel-ratio: 2) and (orientation: landscape)\" rel=\"apple-touch-startup-image\"/>\n",
      "<link href=\"/assets/pwa/apple-splash-1620-2160.jpg\" media=\"(device-width: 810px) and (device-height: 1080px) and (-webkit-device-pixel-ratio: 2) and (orientation: portrait)\" rel=\"apple-touch-startup-image\"/>\n",
      "<link href=\"/assets/pwa/apple-splash-2160-1620.jpg\" media=\"(device-width: 810px) and (device-height: 1080px) and (-webkit-device-pixel-ratio: 2) and (orientation: landscape)\" rel=\"apple-touch-startup-image\"/>\n",
      "<link href=\"/assets/pwa/apple-splash-1284-2778.jpg\" media=\"(device-width: 428px) and (device-height: 926px) and (-webkit-device-pixel-ratio: 3) and (orientation: portrait)\" rel=\"apple-touch-startup-image\"/>\n",
      "<link href=\"/assets/pwa/apple-splash-2778-1284.jpg\" media=\"(device-width: 428px) and (device-height: 926px) and (-webkit-device-pixel-ratio: 3) and (orientation: landscape)\" rel=\"apple-touch-startup-image\"/>\n",
      "<link href=\"/assets/pwa/apple-splash-1170-2532.jpg\" media=\"(device-width: 390px) and (device-height: 844px) and (-webkit-device-pixel-ratio: 3) and (orientation: portrait)\" rel=\"apple-touch-startup-image\"/>\n",
      "<link href=\"/assets/pwa/apple-splash-2532-1170.jpg\" media=\"(device-width: 390px) and (device-height: 844px) and (-webkit-device-pixel-ratio: 3) and (orientation: landscape)\" rel=\"apple-touch-startup-image\"/>\n",
      "<link href=\"/assets/pwa/apple-splash-1125-2436.jpg\" media=\"(device-width: 375px) and (device-height: 812px) and (-webkit-device-pixel-ratio: 3) and (orientation: portrait)\" rel=\"apple-touch-startup-image\"/>\n",
      "<link href=\"/assets/pwa/apple-splash-2436-1125.jpg\" media=\"(device-width: 375px) and (device-height: 812px) and (-webkit-device-pixel-ratio: 3) and (orientation: landscape)\" rel=\"apple-touch-startup-image\"/>\n",
      "<link href=\"/assets/pwa/apple-splash-1242-2688.jpg\" media=\"(device-width: 414px) and (device-height: 896px) and (-webkit-device-pixel-ratio: 3) and (orientation: portrait)\" rel=\"apple-touch-startup-image\"/>\n",
      "<link href=\"/assets/pwa/apple-splash-2688-1242.jpg\" media=\"(device-width: 414px) and (device-height: 896px) and (-webkit-device-pixel-ratio: 3) and (orientation: landscape)\" rel=\"apple-touch-startup-image\"/>\n",
      "<link href=\"/assets/pwa/apple-splash-828-1792.jpg\" media=\"(device-width: 414px) and (device-height: 896px) and (-webkit-device-pixel-ratio: 2) and (orientation: portrait)\" rel=\"apple-touch-startup-image\"/>\n",
      "<link href=\"/assets/pwa/apple-splash-1792-828.jpg\" media=\"(device-width: 414px) and (device-height: 896px) and (-webkit-device-pixel-ratio: 2) and (orientation: landscape)\" rel=\"apple-touch-startup-image\"/>\n",
      "<link href=\"/assets/pwa/apple-splash-1242-2208.jpg\" media=\"(device-width: 414px) and (device-height: 736px) and (-webkit-device-pixel-ratio: 3) and (orientation: portrait)\" rel=\"apple-touch-startup-image\"/>\n",
      "<link href=\"/assets/pwa/apple-splash-2208-1242.jpg\" media=\"(device-width: 414px) and (device-height: 736px) and (-webkit-device-pixel-ratio: 3) and (orientation: landscape)\" rel=\"apple-touch-startup-image\"/>\n",
      "<link href=\"/assets/pwa/apple-splash-750-1334.jpg\" media=\"(device-width: 375px) and (device-height: 667px) and (-webkit-device-pixel-ratio: 2) and (orientation: portrait)\" rel=\"apple-touch-startup-image\"/>\n",
      "<link href=\"/assets/pwa/apple-splash-1334-750.jpg\" media=\"(device-width: 375px) and (device-height: 667px) and (-webkit-device-pixel-ratio: 2) and (orientation: landscape)\" rel=\"apple-touch-startup-image\"/>\n",
      "<link href=\"/assets/pwa/apple-splash-640-1136.jpg\" media=\"(device-width: 320px) and (device-height: 568px) and (-webkit-device-pixel-ratio: 2) and (orientation: portrait)\" rel=\"apple-touch-startup-image\"/>\n",
      "<link href=\"/assets/pwa/apple-splash-1136-640.jpg\" media=\"(device-width: 320px) and (device-height: 568px) and (-webkit-device-pixel-ratio: 2) and (orientation: landscape)\" rel=\"apple-touch-startup-image\"/>\n",
      "<link href=\"https://cdn.wallapop.com\" rel=\"preconnect\"/>\n",
      "<link href=\"https://m.stripe.com\" rel=\"preconnect\"/>\n",
      "<link href=\"https://static.criteo.net\" rel=\"preconnect\"/>\n",
      "<link href=\"https://bridge.richmediastudio.com\" rel=\"preconnect\"/>\n",
      "<link href=\"https://www.googletagservices.com\" rel=\"preconnect\"/>\n",
      "<link href=\"https://c.amazon-adsystem.com\" rel=\"preconnect\"/>\n",
      "<link href=\"https://js.stripe.com/v3\" rel=\"preconnect\"/>\n",
      "<link href=\"manifest.webmanifest\" rel=\"manifest\"/>\n",
      "<!--[if lte IE10]>\n",
      "      <script type=\"text/javascript\">\n",
      "        window.location = 'https://www.wallapop.com/legacy';\n",
      "      </script>\n",
      "    <![endif]-->\n",
      "<link as=\"fetch\" href=\"manifest.json\" rel=\"preload\"/>\n",
      "<style>*,*:before,*:after{box-sizing:border-box}html{font-family:sans-serif;line-height:1.15;-webkit-text-size-adjust:100%;-webkit-tap-highlight-color:rgba(0,0,0,0)}body{margin:0;font-family:-apple-system,BlinkMacSystemFont,Segoe UI,Roboto,Helvetica Neue,Arial,Noto Sans,Liberation Sans,sans-serif,\"Apple Color Emoji\",\"Segoe UI Emoji\",Segoe UI Symbol,\"Noto Color Emoji\";font-size:1rem;font-weight:400;line-height:1.5;color:#212529;text-align:left;background-color:#fff}@font-face{font-family:Wallie;src:url(//d22j03ecumputt.cloudfront.net/fonts/Wallie-Skinny.woff2) format(\"woff2\"),url(//d22j03ecumputt.cloudfront.net/fonts/Wallie-Skinny.woff) format(\"woff\"),url(//d22j03ecumputt.cloudfront.net/fonts/Wallie-Skinny.ttf) format(\"truetype\");font-weight:300;font-display:fallback}@font-face{font-family:Wallie;src:url(//d22j03ecumputt.cloudfront.net/fonts/Wallie-Fit.woff2) format(\"woff2\"),url(//d22j03ecumputt.cloudfront.net/fonts/Wallie-Fit.woff) format(\"woff\"),url(//d22j03ecumputt.cloudfront.net/fonts/Wallie-Fit.ttf) format(\"truetype\");font-display:fallback}@font-face{font-family:Wallie;src:url(//d22j03ecumputt.cloudfront.net/fonts/Wallie-Chunky.woff2) format(\"woff2\"),url(//d22j03ecumputt.cloudfront.net/fonts/Wallie-Chunky.woff) format(\"woff\"),url(//d22j03ecumputt.cloudfront.net/fonts/Wallie-Chunky.ttf) format(\"truetype\");font-weight:700;font-display:fallback}html{height:100%}html,body{font-size:16px}body{font-family:Wallie,Helvetica;-webkit-font-smoothing:antialiased;-moz-osx-font-smoothing:grayscale;min-height:100%}</style><link href=\"styles.01d2e0d297037798.css\" media=\"print\" onload=\"this.media='all'\" rel=\"stylesheet\"/><noscript><link href=\"styles.01d2e0d297037798.css\" rel=\"stylesheet\"/></noscript></head>\n",
      "<body>\n",
      "<tsl-root>\n",
      "<style>\n",
      "        .loading {\n",
      "          position: absolute;\n",
      "          top: 50%;\n",
      "          left: 50%;\n",
      "          width: 100px;\n",
      "          height: 100px;\n",
      "          transform: translate(-50%, -50%);\n",
      "          background: url('/assets/images/spinner.gif') no-repeat center center / 45px;\n",
      "        }\n",
      "      </style>\n",
      "<div class=\"loading\"></div>\n",
      "</tsl-root>\n",
      "<script src=\"runtime.c87eb6fa4fd7750d.js\" type=\"module\"></script><script src=\"polyfills.188cb9062506f966.js\" type=\"module\"></script><script src=\"main.fd941b11aaaa0335.js\" type=\"module\"></script>\n",
      "</body></html>>\n"
     ]
    }
   ],
   "source": [
    "soup = BeautifulSoup(response.text, 'html.parser')\n",
    "title = soup.find_all\n",
    "print(title)"
   ]
  }
 ],
 "metadata": {
  "kernelspec": {
   "display_name": "base",
   "language": "python",
   "name": "python3"
  },
  "language_info": {
   "codemirror_mode": {
    "name": "ipython",
    "version": 3
   },
   "file_extension": ".py",
   "mimetype": "text/x-python",
   "name": "python",
   "nbconvert_exporter": "python",
   "pygments_lexer": "ipython3",
   "version": "3.9.7"
  },
  "orig_nbformat": 4,
  "vscode": {
   "interpreter": {
    "hash": "f0772a89b7b7552231f8b4808588399a8029470ff763161a0caeccf5fec49431"
   }
  }
 },
 "nbformat": 4,
 "nbformat_minor": 2
}
