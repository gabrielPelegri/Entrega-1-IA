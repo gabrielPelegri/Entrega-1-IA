{
 "cells": [
  {
   "cell_type": "code",
   "execution_count": 3,
   "metadata": {},
   "outputs": [],
   "source": [
    "import requests \n",
    "from bs4 import BeautifulSoup\n",
    "import json\n",
    "import codecs as codecs\n",
    "from tqdm import tqdm"
   ]
  },
  {
   "cell_type": "code",
   "execution_count": 4,
   "metadata": {},
   "outputs": [],
   "source": [
    "i=40\n",
    "lista = [json]\n",
    "libros=[]\n",
    "teclados=[]\n",
    "mochilas=[]\n",
    "url1 = 'https://api.wallapop.com/api/v3/general/search?keywords=libros&filters_source=recent_searches&longitude=-3.69196&latitude=40.41956'\n",
    "url2 = 'https://api.wallapop.com/api/v3/general/search?keywords=teclados&filters_source=recent_searches&longitude=-3.69196&latitude=40.41956'\n",
    "url3 = 'https://api.wallapop.com/api/v3/general/search?keywords=mochila&filters_source=recent_searches&longitude=-3.69196&latitude=40.41956'\n",
    "while i<400:\n",
    "    params={'start':i}\n",
    "    response = requests.get(url1, params=params)\n",
    "    response2 = requests.get(url2, params=params)\n",
    "    response3 = requests.get(url3, params=params)\n",
    "    data=json.loads(response.content)\n",
    "    data2=json.loads(response2.content)\n",
    "    data3=json.loads(response3.content)\n",
    "    libros += data['search_objects']\n",
    "    teclados += data2['search_objects']\n",
    "    mochilas += data3['search_objects']\n",
    "    i=i+40\n"
   ]
  },
  {
   "cell_type": "code",
   "execution_count": 5,
   "metadata": {},
   "outputs": [
    {
     "data": {
      "text/plain": [
       "360"
      ]
     },
     "execution_count": 5,
     "metadata": {},
     "output_type": "execute_result"
    }
   ],
   "source": [
    "len(libros)"
   ]
  },
  {
   "cell_type": "code",
   "execution_count": 6,
   "metadata": {},
   "outputs": [],
   "source": [
    "\n",
    "with open('libros.json', 'wb') as f:\n",
    "    json.dump(libros, codecs.getwriter('utf-8')(f), ensure_ascii=False)\n",
    "with open('teclados.json', 'wb') as f:\n",
    "    json.dump(teclados, codecs.getwriter('utf-8')(f), ensure_ascii=False)\n",
    "with open('mochilas.json', 'wb') as f:\n",
    "    json.dump(mochilas, codecs.getwriter('utf-8')(f), ensure_ascii=False)    "
   ]
  }
 ],
 "metadata": {
  "kernelspec": {
   "display_name": "base",
   "language": "python",
   "name": "python3"
  },
  "language_info": {
   "codemirror_mode": {
    "name": "ipython",
    "version": 3
   },
   "file_extension": ".py",
   "mimetype": "text/x-python",
   "name": "python",
   "nbconvert_exporter": "python",
   "pygments_lexer": "ipython3",
   "version": "3.9.7"
  },
  "orig_nbformat": 4,
  "vscode": {
   "interpreter": {
    "hash": "f0772a89b7b7552231f8b4808588399a8029470ff763161a0caeccf5fec49431"
   }
  }
 },
 "nbformat": 4,
 "nbformat_minor": 2
}
