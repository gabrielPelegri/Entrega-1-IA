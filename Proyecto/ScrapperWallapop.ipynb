{
 "cells": [
  {
   "cell_type": "code",
   "execution_count": 10,
   "metadata": {},
   "outputs": [],
   "source": [
    "import requests \n",
    "from bs4 import BeautifulSoup\n",
    "import json\n",
    "import codecs as codecs\n",
    "from tqdm import tqdm"
   ]
  },
  {
   "cell_type": "code",
   "execution_count": 11,
   "metadata": {},
   "outputs": [],
   "source": [
    "i=40\n",
    "lista = [json]\n",
    "items=[]\n",
    "url1 = 'https://api.wallapop.com/api/v3/general/search?keywords=libros&filters_source=recent_searches&longitude=-3.69196&latitude=40.41956'\n",
    "url2 = 'https://api.wallapop.com/api/v3/general/search?keywords=teclados&filters_source=recent_searches&longitude=-3.69196&latitude=40.41956'\n",
    "url3 = 'https://api.wallapop.com/api/v3/general/search?keywords=mochila&filters_source=recent_searches&longitude=-3.69196&latitude=40.41956'\n",
    "while i<400:\n",
    "    params={'start':i}\n",
    "    response = requests.get(url1, params=params)\n",
    "    response2 = requests.get(url2, params=params)\n",
    "    response3 = requests.get(url3, params=params)\n",
    "    data=json.loads(response.content)\n",
    "    data2=json.loads(response2.content)\n",
    "    data3=json.loads(response3.content)\n",
    "    items += data['search_objects']\n",
    "    items += data2['search_objects']\n",
    "    items += data3['search_objects']\n",
    "    i=i+40\n"
   ]
  },
  {
   "cell_type": "code",
   "execution_count": 12,
   "metadata": {},
   "outputs": [
    {
     "data": {
      "text/plain": [
       "1079"
      ]
     },
     "execution_count": 12,
     "metadata": {},
     "output_type": "execute_result"
    }
   ],
   "source": [
    "len(items)"
   ]
  },
  {
   "cell_type": "code",
   "execution_count": 13,
   "metadata": {},
   "outputs": [],
   "source": [
    "\n",
    "with open('wallapop_data.json', 'wb') as f:\n",
    "    json.dump(items, codecs.getwriter('utf-8')(f), ensure_ascii=False)"
   ]
  }
 ],
 "metadata": {
  "kernelspec": {
   "display_name": "base",
   "language": "python",
   "name": "python3"
  },
  "language_info": {
   "codemirror_mode": {
    "name": "ipython",
    "version": 3
   },
   "file_extension": ".py",
   "mimetype": "text/x-python",
   "name": "python",
   "nbconvert_exporter": "python",
   "pygments_lexer": "ipython3",
   "version": "3.9.7"
  },
  "orig_nbformat": 4,
  "vscode": {
   "interpreter": {
    "hash": "f0772a89b7b7552231f8b4808588399a8029470ff763161a0caeccf5fec49431"
   }
  }
 },
 "nbformat": 4,
 "nbformat_minor": 2
}
