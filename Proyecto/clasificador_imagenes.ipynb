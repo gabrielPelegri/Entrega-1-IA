{
 "cells": [
  {
   "cell_type": "code",
   "execution_count": 1,
   "metadata": {},
   "outputs": [],
   "source": [
    "import json"
   ]
  },
  {
   "cell_type": "code",
   "execution_count": 16,
   "metadata": {},
   "outputs": [
    {
     "name": "stdout",
     "output_type": "stream",
     "text": [
      "[{'original': 'http://cdn.wallapop.com/images/10420/ej/qu/__/c10420p879691373/i3168367059.jpg?pictureSize=W800', 'xsmall': 'http://cdn.wallapop.com/images/10420/ej/qu/__/c10420p879691373/i3168367059.jpg?pictureSize=W320', 'small': 'http://cdn.wallapop.com/images/10420/ej/qu/__/c10420p879691373/i3168367059.jpg?pictureSize=W320', 'large': 'http://cdn.wallapop.com/images/10420/ej/qu/__/c10420p879691373/i3168367059.jpg?pictureSize=W800', 'medium': 'http://cdn.wallapop.com/images/10420/ej/qu/__/c10420p879691373/i3168367059.jpg?pictureSize=W640', 'xlarge': 'http://cdn.wallapop.com/images/10420/ej/qu/__/c10420p879691373/i3168367059.jpg?pictureSize=W800', 'original_width': 0, 'original_height': 0}]\n"
     ]
    }
   ],
   "source": [
    "with open('wallapop_data.json') as file:\n",
    "    data = json.load(file)\n",
    "    imagenes=[]\n",
    "    for articulo in data:\n",
    "        imagenes.append(articulo.get('images'))\n",
    "    \n",
    "    print(imagenes[0]\n",
    ")"
   ]
  }
 ],
 "metadata": {
  "kernelspec": {
   "display_name": "Python 3",
   "language": "python",
   "name": "python3"
  },
  "language_info": {
   "codemirror_mode": {
    "name": "ipython",
    "version": 3
   },
   "file_extension": ".py",
   "mimetype": "text/x-python",
   "name": "python",
   "nbconvert_exporter": "python",
   "pygments_lexer": "ipython3",
   "version": "3.9.7"
  },
  "orig_nbformat": 4
 },
 "nbformat": 4,
 "nbformat_minor": 2
}
