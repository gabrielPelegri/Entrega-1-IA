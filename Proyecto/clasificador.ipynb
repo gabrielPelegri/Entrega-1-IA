{
 "cells": [
  {
   "cell_type": "code",
   "execution_count": 10,
   "metadata": {},
   "outputs": [
    {
     "data": {
      "text/html": [
       "<div>\n",
       "<style scoped>\n",
       "    .dataframe tbody tr th:only-of-type {\n",
       "        vertical-align: middle;\n",
       "    }\n",
       "\n",
       "    .dataframe tbody tr th {\n",
       "        vertical-align: top;\n",
       "    }\n",
       "\n",
       "    .dataframe thead th {\n",
       "        text-align: right;\n",
       "    }\n",
       "</style>\n",
       "<table border=\"1\" class=\"dataframe\">\n",
       "  <thead>\n",
       "    <tr style=\"text-align: right;\">\n",
       "      <th></th>\n",
       "      <th>genre</th>\n",
       "      <th>synopsis</th>\n",
       "    </tr>\n",
       "  </thead>\n",
       "  <tbody>\n",
       "    <tr>\n",
       "      <th>0</th>\n",
       "      <td>Comedia</td>\n",
       "      <td>Una bella estudiante muere asesinada. Un grupo...</td>\n",
       "    </tr>\n",
       "    <tr>\n",
       "      <th>3</th>\n",
       "      <td>Comedia</td>\n",
       "      <td>Un sacerdote cree haber descifrado el mensaje ...</td>\n",
       "    </tr>\n",
       "    <tr>\n",
       "      <th>4</th>\n",
       "      <td>Comedia</td>\n",
       "      <td>En un mundo plagado de zombis, Columbus (Jesse...</td>\n",
       "    </tr>\n",
       "    <tr>\n",
       "      <th>5</th>\n",
       "      <td>Comedia</td>\n",
       "      <td>Julia (Carmen Maura), una mujer madura que tra...</td>\n",
       "    </tr>\n",
       "    <tr>\n",
       "      <th>6</th>\n",
       "      <td>Comedia</td>\n",
       "      <td>Una comedia romántica... con zombies. La vida ...</td>\n",
       "    </tr>\n",
       "    <tr>\n",
       "      <th>...</th>\n",
       "      <td>...</td>\n",
       "      <td>...</td>\n",
       "    </tr>\n",
       "    <tr>\n",
       "      <th>290</th>\n",
       "      <td>Terror</td>\n",
       "      <td>Seymour Krelboin (Jonathan Haze), un joven dep...</td>\n",
       "    </tr>\n",
       "    <tr>\n",
       "      <th>291</th>\n",
       "      <td>Comedia</td>\n",
       "      <td>Una nueva entrega de la franquicia que parodia...</td>\n",
       "    </tr>\n",
       "    <tr>\n",
       "      <th>292</th>\n",
       "      <td>Comedia</td>\n",
       "      <td>Viago, Deacon y Vladislav son tres vampiros qu...</td>\n",
       "    </tr>\n",
       "    <tr>\n",
       "      <th>294</th>\n",
       "      <td>Comedia</td>\n",
       "      <td>R, un zombi con problemas existenciales, entab...</td>\n",
       "    </tr>\n",
       "    <tr>\n",
       "      <th>296</th>\n",
       "      <td>Terror</td>\n",
       "      <td>El bueno de Ash se dispone a pasar un fin de s...</td>\n",
       "    </tr>\n",
       "  </tbody>\n",
       "</table>\n",
       "<p>180 rows × 2 columns</p>\n",
       "</div>"
      ],
      "text/plain": [
       "       genre                                           synopsis\n",
       "0    Comedia  Una bella estudiante muere asesinada. Un grupo...\n",
       "3    Comedia  Un sacerdote cree haber descifrado el mensaje ...\n",
       "4    Comedia  En un mundo plagado de zombis, Columbus (Jesse...\n",
       "5    Comedia  Julia (Carmen Maura), una mujer madura que tra...\n",
       "6    Comedia  Una comedia romántica... con zombies. La vida ...\n",
       "..       ...                                                ...\n",
       "290   Terror  Seymour Krelboin (Jonathan Haze), un joven dep...\n",
       "291  Comedia  Una nueva entrega de la franquicia que parodia...\n",
       "292  Comedia  Viago, Deacon y Vladislav son tres vampiros qu...\n",
       "294  Comedia  R, un zombi con problemas existenciales, entab...\n",
       "296   Terror  El bueno de Ash se dispone a pasar un fin de s...\n",
       "\n",
       "[180 rows x 2 columns]"
      ]
     },
     "execution_count": 10,
     "metadata": {},
     "output_type": "execute_result"
    }
   ],
   "source": [
    "import json\n",
    "import numpy as np\n",
    "import pandas as pd\n",
    "from sklearn.feature_extraction.text import CountVectorizer\n",
    "from sklearn.naive_bayes import MultinomialNB\n",
    "from sklearn.pipeline import make_pipeline\n",
    "from sklearn.model_selection import train_test_split\n",
    "from sklearn.metrics import classification_report\n",
    "\n",
    "# Load the data from the JSON file\n",
    "with open('films_data.json', 'r') as f:\n",
    "    films_data = json.load(f)\n",
    "\n",
    "# Convert the data to a DataFrame\n",
    "df = pd.DataFrame(films_data)\n",
    "#df.drop(['title'], axis=1, inplace=True)\n",
    "\n",
    "\n",
    "# Filter the data to include only comedies and horrors\n",
    "filtered_df = df[df['genre'].isin(['Comedia', 'Terror'])]\n",
    "filtered_df=filtered_df.drop(['title'], axis=1)\n",
    "filtered_df\n",
    "\n",
    "\n"
   ]
  },
  {
   "cell_type": "code",
   "execution_count": 13,
   "metadata": {},
   "outputs": [
    {
     "data": {
      "text/plain": [
       "Comedia    0.722222\n",
       "Terror     0.277778\n",
       "Name: genre, dtype: float64"
      ]
     },
     "execution_count": 13,
     "metadata": {},
     "output_type": "execute_result"
    }
   ],
   "source": [
    "filtered_df[\"genre\"].value_counts(normalize=True)"
   ]
  },
  {
   "cell_type": "code",
   "execution_count": 16,
   "metadata": {},
   "outputs": [],
   "source": [
    "synopsis= filtered_df[\"synopsis\"]\n",
    "genre= filtered_df[\"genre\"]\n",
    "synopsis_train, synopsis_test, genre_train, genre_test= train_test_split(synopsis, genre,test_size=0.1,random_state=30)\n"
   ]
  },
  {
   "cell_type": "code",
   "execution_count": 18,
   "metadata": {},
   "outputs": [],
   "source": [
    "vectorizador = CountVectorizer(stop_words=\"english\")\n",
    "synopsis_train_vector = vectorizador.fit_transform(synopsis_train)\n",
    "synopsis_test_vector = vectorizador.transform(synopsis_test)"
   ]
  },
  {
   "cell_type": "code",
   "execution_count": 19,
   "metadata": {},
   "outputs": [
    {
     "data": {
      "text/plain": [
       "LogisticRegression()"
      ]
     },
     "execution_count": 19,
     "metadata": {},
     "output_type": "execute_result"
    }
   ],
   "source": [
    "from sklearn.linear_model import LogisticRegression\n",
    "from sklearn.metrics import plot_confusion_matrix, classification_report\n",
    "clf = LogisticRegression()\n",
    "clf.fit(synopsis_train_vector,genre_train)"
   ]
  },
  {
   "cell_type": "code",
   "execution_count": 20,
   "metadata": {},
   "outputs": [
    {
     "name": "stdout",
     "output_type": "stream",
     "text": [
      "              precision    recall  f1-score   support\n",
      "\n",
      "     Comedia       1.00      1.00      1.00        14\n",
      "      Horror       1.00      1.00      1.00         4\n",
      "\n",
      "    accuracy                           1.00        18\n",
      "   macro avg       1.00      1.00      1.00        18\n",
      "weighted avg       1.00      1.00      1.00        18\n",
      "\n"
     ]
    }
   ],
   "source": [
    "preds = clf.predict(synopsis_test_vector)\n",
    "print(classification_report(genre_test,preds,target_names=['Comedia','Horror']))"
   ]
  },
  {
   "cell_type": "code",
   "execution_count": null,
   "metadata": {},
   "outputs": [],
   "source": [
    "# dump el clasificador\n",
    "import pickle\n",
    "with open('classifier.pkl', 'wb') as f:\n",
    "    pickle.dump(classifier, f)\n"
   ]
  },
  {
   "cell_type": "code",
   "execution_count": null,
   "metadata": {},
   "outputs": [
    {
     "name": "stdout",
     "output_type": "stream",
     "text": [
      "Number of samples: 0\n"
     ]
    }
   ],
   "source": []
  }
 ],
 "metadata": {
  "kernelspec": {
   "display_name": "uax_clase",
   "language": "python",
   "name": "python3"
  },
  "language_info": {
   "codemirror_mode": {
    "name": "ipython",
    "version": 3
   },
   "file_extension": ".py",
   "mimetype": "text/x-python",
   "name": "python",
   "nbconvert_exporter": "python",
   "pygments_lexer": "ipython3",
   "version": "3.9.7"
  },
  "orig_nbformat": 4
 },
 "nbformat": 4,
 "nbformat_minor": 2
}
