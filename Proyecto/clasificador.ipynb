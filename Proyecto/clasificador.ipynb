{
 "cells": [
  {
   "cell_type": "code",
<<<<<<< Updated upstream
   "execution_count": 23,
=======
   "execution_count": 1,
>>>>>>> Stashed changes
   "metadata": {},
   "outputs": [
    {
     "data": {
      "text/html": [
       "<div>\n",
       "<style scoped>\n",
       "    .dataframe tbody tr th:only-of-type {\n",
       "        vertical-align: middle;\n",
       "    }\n",
       "\n",
       "    .dataframe tbody tr th {\n",
       "        vertical-align: top;\n",
       "    }\n",
       "\n",
       "    .dataframe thead th {\n",
       "        text-align: right;\n",
       "    }\n",
       "</style>\n",
       "<table border=\"1\" class=\"dataframe\">\n",
       "  <thead>\n",
       "    <tr style=\"text-align: right;\">\n",
       "      <th></th>\n",
       "      <th>genre</th>\n",
       "      <th>synopsis</th>\n",
       "    </tr>\n",
       "  </thead>\n",
       "  <tbody>\n",
       "    <tr>\n",
       "      <th>0</th>\n",
       "      <td>Comedia</td>\n",
       "      <td>Una bella estudiante muere asesinada. Un grupo...</td>\n",
       "    </tr>\n",
       "    <tr>\n",
       "      <th>3</th>\n",
       "      <td>Comedia</td>\n",
       "      <td>Un sacerdote cree haber descifrado el mensaje ...</td>\n",
       "    </tr>\n",
       "    <tr>\n",
       "      <th>4</th>\n",
       "      <td>Comedia</td>\n",
       "      <td>En un mundo plagado de zombis, Columbus (Jesse...</td>\n",
       "    </tr>\n",
       "    <tr>\n",
       "      <th>5</th>\n",
       "      <td>Comedia</td>\n",
       "      <td>Julia (Carmen Maura), una mujer madura que tra...</td>\n",
       "    </tr>\n",
       "    <tr>\n",
       "      <th>6</th>\n",
       "      <td>Comedia</td>\n",
       "      <td>Una comedia romántica... con zombies. La vida ...</td>\n",
       "    </tr>\n",
       "    <tr>\n",
       "      <th>...</th>\n",
       "      <td>...</td>\n",
       "      <td>...</td>\n",
       "    </tr>\n",
       "    <tr>\n",
       "      <th>290</th>\n",
       "      <td>Terror</td>\n",
       "      <td>Seymour Krelboin (Jonathan Haze), un joven dep...</td>\n",
       "    </tr>\n",
       "    <tr>\n",
       "      <th>291</th>\n",
       "      <td>Comedia</td>\n",
       "      <td>Una nueva entrega de la franquicia que parodia...</td>\n",
       "    </tr>\n",
       "    <tr>\n",
       "      <th>292</th>\n",
       "      <td>Comedia</td>\n",
       "      <td>Viago, Deacon y Vladislav son tres vampiros qu...</td>\n",
       "    </tr>\n",
       "    <tr>\n",
       "      <th>294</th>\n",
       "      <td>Comedia</td>\n",
       "      <td>R, un zombi con problemas existenciales, entab...</td>\n",
       "    </tr>\n",
       "    <tr>\n",
       "      <th>296</th>\n",
       "      <td>Terror</td>\n",
       "      <td>El bueno de Ash se dispone a pasar un fin de s...</td>\n",
       "    </tr>\n",
       "  </tbody>\n",
       "</table>\n",
       "<p>180 rows × 2 columns</p>\n",
       "</div>"
      ],
      "text/plain": [
       "       genre                                           synopsis\n",
       "0    Comedia  Una bella estudiante muere asesinada. Un grupo...\n",
       "3    Comedia  Un sacerdote cree haber descifrado el mensaje ...\n",
       "4    Comedia  En un mundo plagado de zombis, Columbus (Jesse...\n",
       "5    Comedia  Julia (Carmen Maura), una mujer madura que tra...\n",
       "6    Comedia  Una comedia romántica... con zombies. La vida ...\n",
       "..       ...                                                ...\n",
       "290   Terror  Seymour Krelboin (Jonathan Haze), un joven dep...\n",
       "291  Comedia  Una nueva entrega de la franquicia que parodia...\n",
       "292  Comedia  Viago, Deacon y Vladislav son tres vampiros qu...\n",
       "294  Comedia  R, un zombi con problemas existenciales, entab...\n",
       "296   Terror  El bueno de Ash se dispone a pasar un fin de s...\n",
       "\n",
       "[180 rows x 2 columns]"
      ]
     },
<<<<<<< Updated upstream
     "execution_count": 23,
=======
     "execution_count": 1,
>>>>>>> Stashed changes
     "metadata": {},
     "output_type": "execute_result"
    }
   ],
   "source": [
    "import json\n",
    "import numpy as np\n",
    "import pandas as pd\n",
    "from sklearn.feature_extraction.text import CountVectorizer\n",
    "from sklearn.naive_bayes import MultinomialNB\n",
    "from sklearn.pipeline import make_pipeline\n",
    "from sklearn.model_selection import train_test_split\n",
    "from sklearn.metrics import classification_report\n",
    "\n",
    "# Load the data from the JSON file\n",
    "with open('films_data.json', 'r') as f:\n",
    "    films_data = json.load(f)\n",
    "\n",
    "# Convert the data to a DataFrame\n",
    "df = pd.DataFrame(films_data)\n",
    "#df.drop(['title'], axis=1, inplace=True)\n",
    "\n",
    "\n",
    "# Filter the data to include only comedies and horrors\n",
    "filtered_df = df[df['genre'].isin(['Comedia', 'Terror'])]\n",
    "filtered_df=filtered_df.drop(['title'], axis=1)\n",
    "filtered_df\n",
    "\n",
    "\n"
   ]
  },
  {
   "cell_type": "code",
<<<<<<< Updated upstream
   "execution_count": 24,
=======
   "execution_count": 2,
>>>>>>> Stashed changes
   "metadata": {},
   "outputs": [
    {
     "data": {
      "text/plain": [
       "Comedia    0.722222\n",
       "Terror     0.277778\n",
       "Name: genre, dtype: float64"
      ]
     },
<<<<<<< Updated upstream
     "execution_count": 24,
=======
     "execution_count": 2,
>>>>>>> Stashed changes
     "metadata": {},
     "output_type": "execute_result"
    }
   ],
   "source": [
    "filtered_df[\"genre\"].value_counts(normalize=True)"
   ]
  },
  {
   "cell_type": "code",
<<<<<<< Updated upstream
   "execution_count": 25,
=======
   "execution_count": 3,
>>>>>>> Stashed changes
   "metadata": {},
   "outputs": [],
   "source": [
    "synopsis = filtered_df[\"synopsis\"]\n",
    "genre = filtered_df[\"genre\"]\n",
    "synopsis_train, synopsis_test, genre_train, genre_test = train_test_split(\n",
    "    synopsis, genre, test_size=0.1, random_state=30)\n"
   ]
  },
  {
   "cell_type": "code",
<<<<<<< Updated upstream
   "execution_count": 26,
=======
   "execution_count": 4,
>>>>>>> Stashed changes
   "metadata": {},
   "outputs": [],
   "source": [
    "vectorizador = CountVectorizer(stop_words=\"english\")\n",
    "synopsis_train_vector = vectorizador.fit_transform(synopsis_train)\n",
    "synopsis_test_vector = vectorizador.transform(synopsis_test)\n"
   ]
  },
  {
   "cell_type": "code",
<<<<<<< Updated upstream
   "execution_count": 27,
=======
   "execution_count": 5,
>>>>>>> Stashed changes
   "metadata": {},
   "outputs": [
    {
     "data": {
      "text/plain": [
       "LogisticRegression()"
      ]
     },
<<<<<<< Updated upstream
     "execution_count": 27,
=======
     "execution_count": 5,
>>>>>>> Stashed changes
     "metadata": {},
     "output_type": "execute_result"
    }
   ],
   "source": [
    "from sklearn.linear_model import LogisticRegression\n",
    "from sklearn.metrics import plot_confusion_matrix, classification_report\n",
    "clf = LogisticRegression()\n",
    "clf.fit(synopsis_train_vector, genre_train)\n"
   ]
  },
  {
   "cell_type": "code",
<<<<<<< Updated upstream
   "execution_count": 28,
=======
   "execution_count": 6,
>>>>>>> Stashed changes
   "metadata": {},
   "outputs": [
    {
     "name": "stdout",
     "output_type": "stream",
     "text": [
      "              precision    recall  f1-score   support\n",
      "\n",
      "     Comedia       1.00      1.00      1.00        14\n",
      "      Terror       1.00      1.00      1.00         4\n",
      "\n",
      "    accuracy                           1.00        18\n",
      "   macro avg       1.00      1.00      1.00        18\n",
      "weighted avg       1.00      1.00      1.00        18\n",
      "\n"
     ]
    }
   ],
   "source": [
    "preds = clf.predict(synopsis_test_vector)\n",
<<<<<<< Updated upstream
    "print(classification_report(genre_test, preds,\n",
    "      target_names=['Comedia', 'Horror']))\n"
=======
    "#print(classification_report(genre_test,preds,target_names=['Comedia','Horror']))\n",
    "#Generalizado sacando el génerode las peliculas\n",
    "print(classification_report(genre_test,preds,target_names=filtered_df['genre'].unique()))\n"
>>>>>>> Stashed changes
   ]
  },
  {
   "cell_type": "code",
<<<<<<< Updated upstream
   "execution_count": 29,
=======
   "execution_count": 7,
>>>>>>> Stashed changes
   "metadata": {},
   "outputs": [
    {
     "data": {
      "text/plain": [
<<<<<<< Updated upstream
       "<sklearn.metrics._plot.confusion_matrix.ConfusionMatrixDisplay at 0x1eece0c74f0>"
      ]
     },
     "execution_count": 29,
=======
       "<sklearn.metrics._plot.confusion_matrix.ConfusionMatrixDisplay at 0x28fdf8427c0>"
      ]
     },
     "execution_count": 7,
>>>>>>> Stashed changes
     "metadata": {},
     "output_type": "execute_result"
    },
    {
     "data": {
      "image/png": "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",
      "text/plain": [
       "<Figure size 640x480 with 2 Axes>"
      ]
     },
     "metadata": {},
     "output_type": "display_data"
    }
   ],
   "source": [
    "plot_confusion_matrix(clf, synopsis_test_vector, genre_test)\n"
   ]
  },
  {
   "cell_type": "code",
<<<<<<< Updated upstream
   "execution_count": 30,
=======
   "execution_count": 8,
>>>>>>> Stashed changes
   "metadata": {},
   "outputs": [],
   "source": [
    "# dump el clasificador\n",
    "import pickle\n",
    "with open('classifier.pkl', 'wb') as f:\n",
    "    pickle.dump(clf, f)\n"
   ]
<<<<<<< Updated upstream
=======
  },
  {
   "cell_type": "code",
   "execution_count": null,
   "metadata": {},
   "outputs": [],
   "source": []
>>>>>>> Stashed changes
  }
 ],
 "metadata": {
  "kernelspec": {
   "display_name": "uax_clase",
   "language": "python",
   "name": "python3"
  },
  "language_info": {
   "codemirror_mode": {
    "name": "ipython",
    "version": 3
   },
   "file_extension": ".py",
   "mimetype": "text/x-python",
   "name": "python",
   "nbconvert_exporter": "python",
   "pygments_lexer": "ipython3",
   "version": "3.9.1"
  },
  "orig_nbformat": 4
 },
 "nbformat": 4,
 "nbformat_minor": 2
}
